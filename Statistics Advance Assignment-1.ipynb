{
 "cells": [
  {
   "cell_type": "markdown",
   "metadata": {},
   "source": [
    "**Q1.** What is the Probability density function?"
   ]
  },
  {
   "cell_type": "markdown",
   "metadata": {},
   "source": [
    "A Probability Density Function (PDF) is used in probability theory and statistics.\n",
    "\n",
    "It describes the likelihood of a continuous random variable taking on a specific value within a given range.\n",
    "\n",
    "PDF applies to continuous random variables that can take any value within a range, not just specific values.\n",
    "\n",
    "Denoted as f(x), where x is the value of the continuous random variable.\n",
    "\n",
    "The area under the PDF curve within an interval corresponds to the probability of the variable falling within that interval."
   ]
  },
  {
   "cell_type": "markdown",
   "metadata": {},
   "source": [
    "**Q2.** What are the types of Probability distribution?"
   ]
  },
  {
   "cell_type": "markdown",
   "metadata": {},
   "source": [
    "**Discrete Probability Distributions:**\n",
    "\n",
    "**1-Bernoulli Distribution:**\n",
    "\n",
    "Describes a binary outcome (success/failure) with a single trial.\n",
    "\n",
    "Parameter: Probability of success (p).\n",
    "\n",
    "**2-Binomial Distribution:**\n",
    "\n",
    "Models the number of successes in a fixed number of independent Bernoulli trials.\n",
    "\n",
    "Parameters: Number of trials (n), probability of success (p).\n",
    "\n",
    "**3-Poisson Distribution:**\n",
    "\n",
    "Models the number of events occurring in a fixed interval of time or space.\n",
    "\n",
    "Parameter: Average rate of occurrence (λ).\n",
    "\n",
    "**4-Geometric Distribution:**\n",
    "\n",
    "Represents the number of trials needed for the first success in a sequence of independent Bernoulli trials.\n",
    "\n",
    "Parameter: Probability of success (p).\n",
    "\n",
    "**Continuous Probability Distributions:**\n",
    "\n",
    "**1-Uniform Distribution:**\n",
    "\n",
    "All values in a range are equally likely.\n",
    "\n",
    "Parameters: Minimum and maximum values of the range.\n",
    "\n",
    "**2-Normal Distribution (Gaussian Distribution):**\n",
    "\n",
    "Bell-shaped curve describing many natural phenomena.\n",
    "\n",
    "Characterized by mean (μ) and standard deviation (σ).\n",
    "\n",
    "**3-Exponential Distribution:**\n",
    "\n",
    "Models the time between events in a Poisson process (memoryless property).\n",
    "\n",
    "Parameter: Rate parameter (λ).\n",
    "\n",
    "**4-Gamma Distribution:**\n",
    "\n",
    "Generalizes the exponential distribution to account for shape and scale parameters.\n",
    "\n",
    "Parameters: Shape parameter (α), scale parameter (β).\n",
    "\n",
    "**5-Beta Distribution:**\n",
    "\n",
    "Describes random variables limited to intervals of a fixed range.\n",
    "\n",
    "Parameters: Shape parameters (α and β) that control the shape of the distribution.\n",
    "\n",
    "**6-Chi-Squared Distribution:**\n",
    "\n",
    "Arises in the context of sum of squares of independent standard normal random variables.\n",
    "\n",
    "Parameter: Degrees of freedom (ν).\n",
    "\n",
    "**7-Student's t-Distribution:**\n",
    "\n",
    "Commonly used in hypothesis testing when sample sizes are small.\n",
    "\n",
    "Parameter: Degrees of freedom (ν)."
   ]
  },
  {
   "cell_type": "markdown",
   "metadata": {},
   "source": [
    "**Q3.** Write a Python function to calculate the probability density function of a normal distribution with\n",
    "given mean and standard deviation at a given point."
   ]
  },
  {
   "cell_type": "code",
   "execution_count": 1,
   "metadata": {},
   "outputs": [
    {
     "name": "stdout",
     "output_type": "stream",
     "text": [
      "PDF at x = 1.5: 0.12951759566589174\n"
     ]
    }
   ],
   "source": [
    "import math\n",
    "\n",
    "def normal_pdf(x, mean, std_dev):\n",
    "    exponent = -(x - mean)**2 / (2 * std_dev**2)\n",
    "    coefficient = 1 / (std_dev * math.sqrt(2 * math.pi))\n",
    "    pdf_value = coefficient * math.exp(exponent)\n",
    "    return pdf_value\n",
    "\n",
    "mean = 0\n",
    "std_dev = 1\n",
    "x_value = 1.5\n",
    "pdf_at_x = normal_pdf(x_value, mean, std_dev)\n",
    "print(f\"PDF at x = {x_value}: {pdf_at_x}\")\n"
   ]
  },
  {
   "cell_type": "code",
   "execution_count": 2,
   "metadata": {},
   "outputs": [
    {
     "name": "stdout",
     "output_type": "stream",
     "text": [
      "PDF at x = 1.5: 0.12951759566589174\n"
     ]
    }
   ],
   "source": [
    "from scipy.stats import norm\n",
    "\n",
    "def normal_pdf(x, mean, std_dev):\n",
    "    pdf_value = norm.pdf(x, mean, std_dev)\n",
    "    return pdf_value\n",
    "\n",
    "mean = 0\n",
    "std_dev = 1\n",
    "x_value = 1.5\n",
    "pdf_at_x = normal_pdf(x_value, mean, std_dev)\n",
    "print(f\"PDF at x = {x_value}: {pdf_at_x}\")\n"
   ]
  },
  {
   "cell_type": "markdown",
   "metadata": {},
   "source": [
    "**Q4.** What are the properties of Binomial distribution? Give two examples of events where binomial\n",
    "distribution can be applied."
   ]
  },
  {
   "cell_type": "markdown",
   "metadata": {},
   "source": [
    "**Properties of Binomial Distribution:**\n",
    "\n",
    "Based on a fixed number of trials (\"n\").\n",
    "\n",
    "Assumes independence between trials.\n",
    "\n",
    "Two possible outcomes: success (\"S\") and failure (\"F\").\n",
    "\n",
    "Constant probability of success (\"p\") for each trial.\n",
    "\n",
    "Deals with discrete values (non-negative integers).\n",
    "\n",
    "Probability Mass Function (PMF) gives the probability of specific success counts.\n",
    "\n",
    "**Examples of Binomial Distribution:**\n",
    "\n",
    "**Coin Flips:**\n",
    "\n",
    "Experiment: Flipping a fair coin 5 times.\n",
    "\n",
    "Scenario: Calculate the probability of getting exactly 3 heads.\n",
    "\n",
    "Each flip is a Bernoulli trial (heads = success, tails = failure), and the number of heads follows a Binomial distribution.\n",
    "\n",
    "**Quality Control:**\n",
    "\n",
    "Experiment: Testing 10 light bulbs from a factory's production line.\n",
    "\n",
    "Scenario: Determine the probability of finding exactly 2 defective bulbs.\n",
    "\n",
    "Each tested bulb is a Bernoulli trial (defective = success, non-defective = failure), and the number of defective bulbs follows a Binomial distribution."
   ]
  },
  {
   "cell_type": "markdown",
   "metadata": {},
   "source": [
    "**Q5.** Generate a random sample of size 1000 from a binomial distribution with probability of success 0.4\n",
    "and plot a histogram of the results using matplotlib."
   ]
  },
  {
   "cell_type": "code",
   "execution_count": 5,
   "metadata": {},
   "outputs": [
    {
     "data": {
      "image/png": "[encoded data removed]",
      "text/plain": [
       "<Figure size 640x480 with 1 Axes>"
      ]
     },
     "metadata": {},
     "output_type": "display_data"
    }
   ],
   "source": [
    "import numpy as np\n",
    "import matplotlib.pyplot as plt\n",
    "\n",
    "sample_size = 1000\n",
    "probability_of_success = 0.4\n",
    "\n",
    "# Generate random sample from Binomial distribution\n",
    "random_sample = np.random.binomial(n=1, p=probability_of_success, size=sample_size)\n",
    "# The n parameter is set to 1 because we're interested in individual Bernoulli trials (success or failure). \n",
    "\n",
    "plt.hist(random_sample, bins=2, edgecolor='black', alpha=0.7)\n",
    "plt.title(f\"Histogram of {sample_size} Samples from Binomial Distribution\")\n",
    "plt.xlabel(\"Success (1) / Failure (0)\")\n",
    "plt.ylabel(\"Frequency\")\n",
    "plt.xticks([0, 1], ['Failure', 'Success'])\n",
    "plt.show()\n",
    "\n",
    "\n"
   ]
  },
  {
   "cell_type": "markdown",
   "metadata": {},
   "source": [
    "**Q6.** Write a Python function to calculate the cumulative distribution function of a Poisson distribution\n",
    "with given mean at a given point."
   ]
  },
  {
   "cell_type": "code",
   "execution_count": 9,
   "metadata": {},
   "outputs": [
    {
     "name": "stdout",
     "output_type": "stream",
     "text": [
      "CDF at x = 5 is 0.9160820579686966\n"
     ]
    }
   ],
   "source": [
    "import math\n",
    "\n",
    "def poisson_cdf(x, mean):\n",
    "    cdf_value = sum((mean ** k) * math.exp(-mean) / math.factorial(k) for k in range(x + 1))\n",
    "    return cdf_value\n",
    "\n",
    "mean = 3\n",
    "x_value = 5\n",
    "cdf_at_x = poisson_cdf(x_value, mean)\n",
    "print(f\"CDF at x = {x_value} is {cdf_at_x}\")\n"
   ]
  },
  {
   "cell_type": "code",
   "execution_count": 7,
   "metadata": {},
   "outputs": [
    {
     "name": "stdout",
     "output_type": "stream",
     "text": [
      "CDF at x = 5 is 0.9160820579686966\n"
     ]
    }
   ],
   "source": [
    "from scipy.stats import poisson\n",
    "\n",
    "def poisson_cdf(x, mean):\n",
    "    cdf_value = poisson.cdf(x, mu=mean)\n",
    "    return cdf_value\n",
    "\n",
    "mean = 3\n",
    "x_value = 5\n",
    "cdf_at_x = poisson_cdf(x_value, mean)\n",
    "print(f\"CDF at x = {x_value} is {cdf_at_x}\")\n"
   ]
  },
  {
   "cell_type": "markdown",
   "metadata": {},
   "source": [
    "**Q7.** How Binomial distribution different from Poisson distribution?"
   ]
  },
  {
   "cell_type": "markdown",
   "metadata": {},
   "source": [
    "**Binomial Distribution:**\n",
    "\n",
    "Models a fixed number of independent trials with two possible outcomes (success or failure).\n",
    "\n",
    "Requires parameters: number of trials \"n\" and probability of success \"p\".\n",
    "\n",
    "Calculates probabilities of getting a specific number of successes in \"n\" trials.\n",
    "\n",
    "Suitable for situations with a fixed number of trials and binary outcomes.\n",
    "\n",
    "Assumes constant probability of success across trials.\n",
    "\n",
    "Examples: coin flips, pass/fail rates, success/failure rates.\n",
    "\n",
    "**Poisson Distribution:**\n",
    "\n",
    "Models the frequency of rare events occurring in a fixed interval of time or space.\n",
    "\n",
    "Requires parameter: average rate of events \"λ\" (lambda).\n",
    "\n",
    "Calculates probabilities of observing a specific number of events in a fixed interval.\n",
    "\n",
    "Appropriate for rare events that occur independently.\n",
    "\n",
    "Assumes events are infrequent and independent within the interval.\n",
    "\n",
    "Examples: number of phone calls in an hour, accidents at an intersection.\n",
    "\n",
    "\n",
    "**The Binomial distribution is used for scenarios with a fixed number of trials and binary outcomes, while the Poisson distribution is employed to model the frequency of rare events occurring in a fixed interval.**"
   ]
  },
  {
   "cell_type": "markdown",
   "metadata": {},
   "source": [
    "**Q8.** Generate a random sample of size 1000 from a Poisson distribution with mean 5 and calculate the\n",
    "sample mean and variance."
   ]
  },
  {
   "cell_type": "code",
   "execution_count": 13,
   "metadata": {},
   "outputs": [
    {
     "name": "stdout",
     "output_type": "stream",
     "text": [
      "Sample Mean is 4.907\n",
      "Sample Variance is 5.190351000000001\n"
     ]
    }
   ],
   "source": [
    "import numpy as np\n",
    "\n",
    "sample_size = 1000\n",
    "mean = 5\n",
    "\n",
    "random_sample = np.random.poisson(mean, size=sample_size)\n",
    "\n",
    "sample_mean = np.mean(random_sample)\n",
    "sample_variance = np.var(random_sample)\n",
    "\n",
    "print(f\"Sample Mean is {sample_mean}\")\n",
    "print(f\"Sample Variance is {sample_variance}\")\n"
   ]
  },
  {
   "cell_type": "markdown",
   "metadata": {},
   "source": [
    "**Q9.** How mean and variance are related in Binomial distribution and Poisson distribution?"
   ]
  },
  {
   "cell_type": "markdown",
   "metadata": {},
   "source": [
    "**Binomial Distribution:**\n",
    "\n",
    "Mean: The average outcome of the Binomial distribution is found by multiplying the number of trials (\"n\") with the probability of success (\"p\").\n",
    "\n",
    "Variance: The spread or dispersion of outcomes in the Binomial distribution depends on both the number of trials and the probability of success. It's lower when the probability \n",
    "of success is either very small or very large, and higher when the probability of success is around 0.5.\n",
    "\n",
    "\n",
    "**Poisson Distribution:**\n",
    "\n",
    "Mean: The average number of occurrences in the Poisson distribution is simply the rate at which events are happening, denoted by \"lambda\" (λ).\n",
    "\n",
    "Variance: Similar to the mean, the spread of outcomes in the Poisson distribution is also determined by the rate of occurrences. The mean and variance are equal, which means they share the same value.\n",
    "\n",
    "**For the Binomial distribution, the variance depends on both the number of trials and the probability of success. In contrast, the Poisson distribution's variance is solely influenced by the average rate of events, and the mean and variance are always equal in the Poisson distribution.**"
   ]
  },
  {
   "cell_type": "markdown",
   "metadata": {},
   "source": [
    "**Q10.** In normal distribution with respect to mean position, where does the least frequent data appear?"
   ]
  },
  {
   "cell_type": "markdown",
   "metadata": {},
   "source": [
    "**In a normal distribution:**\n",
    "\n",
    "The least frequent data appears in the tails of the distribution.\n",
    "\n",
    "Tails are the extreme ends of the distribution, located farthest from the mean.\n",
    "\n",
    "Tails are also referred to as \"left tail\" (for smaller values) and \"right tail\" (for larger values).\n",
    "\n",
    "Most data points are concentrated near the mean, with frequency decreasing as you move away from the mean towards the tails."
   ]
  },
  {
   "cell_type": "markdown",
   "metadata": {},
   "source": []
  }
 ],
 "metadata": {
  "kernelspec": {
   "display_name": "Python 3",
   "language": "python",
   "name": "python3"
  },
  "language_info": {
   "codemirror_mode": {
    "name": "ipython",
    "version": 3
   },
   "file_extension": ".py",
   "mimetype": "text/x-python",
   "name": "python",
   "nbconvert_exporter": "python",
   "pygments_lexer": "ipython3",
   "version": "3.11.1"
  },
  "orig_nbformat": 4
 },
 "nbformat": 4,
 "nbformat_minor": 2
}
